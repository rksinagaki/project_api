{
 "cells": [
  {
   "cell_type": "code",
   "execution_count": 6,
   "id": "71f2741e-5410-4e65-a246-3b38e5473834",
   "metadata": {},
   "outputs": [
    {
     "name": "stdout",
     "output_type": "stream",
     "text": [
      "True\n",
      "[PosixPath('/work/data/processed/part-00000-f07624b2-401d-4bc3-ade0-a8ae982c58b5-c000.snappy.parquet'), PosixPath('/work/data/processed/part-00000-7bf08c82-b8bf-4a93-a28f-4789185354c4-c000.snappy.parquet'), PosixPath('/work/data/processed/part-00001-5d0b89f1-3d52-4ae2-b5da-dd18305c5173-c000.snappy.parquet')]\n",
      "4\n"
     ]
    },
    {
     "data": {
      "text/html": [
       "<div>\n",
       "<style scoped>\n",
       "    .dataframe tbody tr th:only-of-type {\n",
       "        vertical-align: middle;\n",
       "    }\n",
       "\n",
       "    .dataframe tbody tr th {\n",
       "        vertical-align: top;\n",
       "    }\n",
       "\n",
       "    .dataframe thead th {\n",
       "        text-align: right;\n",
       "    }\n",
       "</style>\n",
       "<table border=\"1\" class=\"dataframe\">\n",
       "  <thead>\n",
       "    <tr style=\"text-align: right;\">\n",
       "      <th></th>\n",
       "      <th>video_id</th>\n",
       "      <th>comment_id</th>\n",
       "      <th>author_display_name</th>\n",
       "      <th>published_at</th>\n",
       "      <th>text_display</th>\n",
       "      <th>like_count</th>\n",
       "    </tr>\n",
       "  </thead>\n",
       "  <tbody>\n",
       "    <tr>\n",
       "      <th>0</th>\n",
       "      <td>TZAjKYUnW9g</td>\n",
       "      <td>Ugg-3mx2ViehhXgCoAEC</td>\n",
       "      <td>@きょかちん</td>\n",
       "      <td>2014-06-15 14:55:02</td>\n",
       "      <td>自然と涙が出てくる素敵な曲。もう何年も聴き続けているけど飽きない。スキマスイッチの魅力が光る...</td>\n",
       "      <td>43</td>\n",
       "    </tr>\n",
       "    <tr>\n",
       "      <th>1</th>\n",
       "      <td>gfiGQhDH4ZI</td>\n",
       "      <td>Ugg1D5j2rOGlSXgCoAEC</td>\n",
       "      <td>@toutou30ni</td>\n",
       "      <td>2015-07-04 14:30:36</td>\n",
       "      <td>涙でてくるわー。&lt;br&gt;昔を思いだしてしまった。&lt;br&gt;スキマスイッチの詞は心に響きすぎる・・・</td>\n",
       "      <td>19</td>\n",
       "    </tr>\n",
       "    <tr>\n",
       "      <th>2</th>\n",
       "      <td>Tg2BGVTTQzc</td>\n",
       "      <td>Ugg2qIhuznXsKXgCoAEC</td>\n",
       "      <td>@peace7967</td>\n",
       "      <td>2016-06-11 04:30:30</td>\n",
       "      <td>懐かしいみにいったなぁ</td>\n",
       "      <td>31</td>\n",
       "    </tr>\n",
       "    <tr>\n",
       "      <th>3</th>\n",
       "      <td>9BCqxGHG69U</td>\n",
       "      <td>Ugg3SUi_8rHDgHgCoAEC</td>\n",
       "      <td>@黒田友梨恵-n9i</td>\n",
       "      <td>2016-07-29 15:54:40</td>\n",
       "      <td>幸せそう。みんな音楽を楽しんで演奏してる。わくわくしてる。人の表情って不思議ですよね。言葉な...</td>\n",
       "      <td>80</td>\n",
       "    </tr>\n",
       "    <tr>\n",
       "      <th>4</th>\n",
       "      <td>Tg2BGVTTQzc</td>\n",
       "      <td>Ugg7qkO2q4oeq3gCoAEC</td>\n",
       "      <td>@kumorizorando</td>\n",
       "      <td>2015-07-16 18:06:45</td>\n",
       "      <td>ライブのゴールデンタイムラバーはまた違ってよかったなぁ～</td>\n",
       "      <td>57</td>\n",
       "    </tr>\n",
       "  </tbody>\n",
       "</table>\n",
       "</div>"
      ],
      "text/plain": [
       "      video_id            comment_id author_display_name        published_at  \\\n",
       "0  TZAjKYUnW9g  Ugg-3mx2ViehhXgCoAEC              @きょかちん 2014-06-15 14:55:02   \n",
       "1  gfiGQhDH4ZI  Ugg1D5j2rOGlSXgCoAEC         @toutou30ni 2015-07-04 14:30:36   \n",
       "2  Tg2BGVTTQzc  Ugg2qIhuznXsKXgCoAEC          @peace7967 2016-06-11 04:30:30   \n",
       "3  9BCqxGHG69U  Ugg3SUi_8rHDgHgCoAEC          @黒田友梨恵-n9i 2016-07-29 15:54:40   \n",
       "4  Tg2BGVTTQzc  Ugg7qkO2q4oeq3gCoAEC      @kumorizorando 2015-07-16 18:06:45   \n",
       "\n",
       "                                        text_display  like_count  \n",
       "0  自然と涙が出てくる素敵な曲。もう何年も聴き続けているけど飽きない。スキマスイッチの魅力が光る...          43  \n",
       "1   涙でてくるわー。<br>昔を思いだしてしまった。<br>スキマスイッチの詞は心に響きすぎる・・・          19  \n",
       "2                                        懐かしいみにいったなぁ          31  \n",
       "3  幸せそう。みんな音楽を楽しんで演奏してる。わくわくしてる。人の表情って不思議ですよね。言葉な...          80  \n",
       "4                       ライブのゴールデンタイムラバーはまた違ってよかったなぁ～          57  "
      ]
     },
     "execution_count": 6,
     "metadata": {},
     "output_type": "execute_result"
    }
   ],
   "source": [
    "from pathlib import Path\n",
    "import pandas as pd\n",
    "\n",
    "p = Path(\"/work/data/processed\")  # コンテナ内の正しいパス\n",
    "print(p.exists())                 # Trueになるはず\n",
    "print(list(p.glob(\"*\"))[:3])      # 最初の3つだけ確認\n",
    "\n",
    "files = list(p.glob(\"*.parquet\"))  # *.parquet または *.snappy.parquet に注意\n",
    "print(len(files))\n",
    "\n",
    "df = pd.read_parquet(files[2])\n",
    "df.head()"
   ]
  },
  {
   "cell_type": "code",
   "execution_count": null,
   "id": "d26508d1-ffd9-4f8e-b581-55db3c7939cd",
   "metadata": {},
   "outputs": [],
   "source": []
  }
 ],
 "metadata": {
  "kernelspec": {
   "display_name": "Python 3 (ipykernel)",
   "language": "python",
   "name": "python3"
  },
  "language_info": {
   "codemirror_mode": {
    "name": "ipython",
    "version": 3
   },
   "file_extension": ".py",
   "mimetype": "text/x-python",
   "name": "python",
   "nbconvert_exporter": "python",
   "pygments_lexer": "ipython3",
   "version": "3.11.14"
  }
 },
 "nbformat": 4,
 "nbformat_minor": 5
}
